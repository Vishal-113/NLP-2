{
  "nbformat": 4,
  "nbformat_minor": 0,
  "metadata": {
    "colab": {
      "provenance": [],
      "authorship_tag": "ABX9TyM9G0F+gc0nhZBcSt5+3WXa",
      "include_colab_link": true
    },
    "kernelspec": {
      "name": "python3",
      "display_name": "Python 3"
    },
    "language_info": {
      "name": "python"
    }
  },
  "cells": [
    {
      "cell_type": "markdown",
      "metadata": {
        "id": "view-in-github",
        "colab_type": "text"
      },
      "source": [
        "<a href=\"https://colab.research.google.com/github/Vishal-113/NLP-2/blob/main/predictable_no_fun_.ipynb\" target=\"_parent\"><img src=\"https://colab.research.google.com/assets/colab-badge.svg\" alt=\"Open In Colab\"/></a>"
      ]
    },
    {
      "cell_type": "markdown",
      "source": [
        "\n",
        "\n",
        "## Q3 — Classify the document **“predictable no fun”**\n",
        "\n",
        "We need the class *score* (unnormalized posterior) = prior × product of smoothed likelihoods.\n",
        "\n",
        "### Negative class score (all numeric except the count of “no” in negative)\n",
        "\n",
        "Let $k$ = count of the word **\"no\"** in the negative training documents. Then\n",
        "\n",
        "* $P(-)=\\tfrac{3}{5}$.\n",
        "* $P(\\text{predictable}\\mid -)=\\tfrac{3}{34}$.\n",
        "* $P(\\text{no}\\mid -)=\\tfrac{k+1}{34}$.\n",
        "* $P(\\text{fun}\\mid -)=\\tfrac{1}{34}$.\n",
        "\n",
        "Multiply step by step:\n",
        "\n",
        "1. $ \\dfrac{3}{5}\\times\\dfrac{3}{34} = \\dfrac{9}{170}\\approx 0.05294117647.$\n",
        "2. Multiply by $P(\\text{no}\\mid -)=\\dfrac{k+1}{34}$: $ \\dfrac{9}{170}\\times\\dfrac{k+1}{34}=\\dfrac{9(k+1)}{5780}.$\n",
        "3. Multiply by $P(\\text{fun}\\mid -)=\\dfrac{1}{34}$: final negative score\n",
        "\n",
        "$$\n",
        "\\boxed{P(-,\\text{doc})=\\dfrac{9(k+1)}{196520}}.\n",
        "$$\n",
        "\n",
        "Numeric examples:\n",
        "\n",
        "* If $k=0$ (no never appeared in negative): $P(-,\\text{doc})=\\dfrac{9}{196520}\\approx 0.0000457969.$\n",
        "* If $k=1$: $P(-,\\text{doc})=\\dfrac{9}{98260}\\approx 0.0000915937.$\n",
        "* If $k=2$: $P(-,\\text{doc})\\approx 0.0001373906.$\n",
        "\n",
        "\n",
        "### Positive class score (symbolic — need positive counts)\n",
        "\n",
        "Let $T_+$ = total tokens in the positive class, and let\n",
        "\n",
        "* $c_{\\text{predictable},+}$ = count of “predictable” in positive docs,\n",
        "* $c_{\\text{no},+}$ = count of “no” in positive docs,\n",
        "* $c_{\\text{fun},+}$ = count of “fun” in positive docs.\n",
        "\n",
        "Denominator for positive smoothed likelihoods $=T_+ + V$. Then\n",
        "\n",
        "$$\n",
        "P(+,\\text{doc})=\\frac{2}{5}\\times\n",
        "\\frac{c_{\\text{predictable},+}+1}{T_++20}\\times\n",
        "\\frac{c_{\\text{no},+}+1}{T_++20}\\times\n",
        "\\frac{c_{\\text{fun},+}+1}{T_++20}.\n",
        "$$\n",
        "\n",
        "**You need the three positive-class counts and $T_+$** to compute a numeric $P(+,\\text{doc})$ and compare.\n",
        "\n",
        "\n",
        "### Quick illustrative example (assumed numbers)\n",
        "\n",
        "If you want a demonstration, assume $T_+=6$, $c_{\\text{predictable},+}=0$, $c_{\\text{no},+}=0$, $c_{\\text{fun},+}=2$. Then\n",
        "\n",
        "* denomin. $=6+20=26$.\n",
        "* $P(\\text{predictable}\\mid +)=1/26,\\;P(\\text{no}\\mid +)=1/26,\\;P(\\text{fun}\\mid +)=3/26.$\n",
        "* $P(+,\\text{doc})=\\dfrac{2}{5}\\times\\dfrac{1}{26}\\times\\dfrac{1}{26}\\times\\dfrac{3}{26}=\\dfrac{3}{43940}\\approx 0.0000682749.$\n",
        "\n",
        "Compare to negative with different $k$:\n",
        "\n",
        "* If $k=0$, negative ≈ 0.00004580 < positive ≈ 0.00006827 ⇒ **positive wins** (in this assumed example).\n",
        "* If $k\\ge 1$, negative ≈ 0.00009159 (for $k=1$) ≥ positive ⇒ **negative wins**.\n",
        "\n",
        "---\n",
        "\n",
        "## Conclusion / What I need to finish exactly\n",
        "\n",
        "* I computed the negative-class likelihoods and gave the exact negative score formula (depends on $k$).\n",
        "* To decide which class the system assigns numerically, I **need** the positive-class counts (or the total positive token count and the three positive-word counts).\n",
        "\n",
        "If you want, tell me $T_+$ and the counts of **predictable**, **no**, and **fun** in the positive documents (or say “use assumed numbers” and give them) and I’ll compute the final numeric scores and the classification right away.\n"
      ],
      "metadata": {
        "id": "_rT57TebPm_L"
      }
    }
  ]
}