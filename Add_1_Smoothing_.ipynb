{
  "nbformat": 4,
  "nbformat_minor": 0,
  "metadata": {
    "colab": {
      "provenance": [],
      "authorship_tag": "ABX9TyNJWRVljRZaN3CkZYXw6IOt",
      "include_colab_link": true
    },
    "kernelspec": {
      "name": "python3",
      "display_name": "Python 3"
    },
    "language_info": {
      "name": "python"
    }
  },
  "cells": [
    {
      "cell_type": "markdown",
      "metadata": {
        "id": "view-in-github",
        "colab_type": "text"
      },
      "source": [
        "<a href=\"https://colab.research.google.com/github/Vishal-113/NLP-2/blob/main/Add_1_Smoothing_.ipynb\" target=\"_parent\"><img src=\"https://colab.research.google.com/assets/colab-badge.svg\" alt=\"Open In Colab\"/></a>"
      ]
    },
    {
      "cell_type": "markdown",
      "source": [
        "\n",
        "\n",
        "\n",
        "### **Background formula (with Add-1 smoothing):**\n",
        "\n",
        "For a given class $c$:\n",
        "\n",
        "$$\n",
        "P(w \\mid c) = \\frac{\\text{count}(w, c) + 1}{\\text{total tokens in class } c + V}\n",
        "$$\n",
        "\n",
        "where:\n",
        "\n",
        "* $\\text{count}(w, c)$ = how many times word $w$ appears in documents of class $c$\n",
        "* $V$ = vocabulary size\n",
        "* denominator = total tokens in class + $V$\n",
        "\n",
        "### **Given values:**\n",
        "\n",
        "* Priors: $P(-) = \\tfrac{3}{5}, \\; P(+) = \\tfrac{2}{5}$ (not directly used here, just context)\n",
        "* Vocabulary size: $V = 20$\n",
        "* Negative class total token count = 14\n",
        "\n",
        "\n",
        "### **Task 1. Denominator for likelihood estimation**\n",
        "\n",
        "$$\n",
        "\\text{Denominator} = 14 + 20 = 34\n",
        "$$\n",
        "\n",
        "\n",
        "### **Task 2. $P(\\text{predictable} \\mid -)$**\n",
        "\n",
        "Word “predictable” occurs 2 times in negative documents.\n",
        "\n",
        "$$\n",
        "P(\\text{predictable} \\mid -) = \\frac{2 + 1}{34} = \\frac{3}{34}\n",
        "$$\n",
        "\n",
        "\n",
        "### **Task 3. $P(\\text{fun} \\mid -)$**\n",
        "\n",
        "Word “fun” never appeared in negative documents ($0$ times).\n",
        "\n",
        "$$\n",
        "P(\\text{fun} \\mid -) = \\frac{0 + 1}{34} = \\frac{1}{34}\n",
        "$$\n",
        "\n",
        "**Final Answers:**\n",
        "\n",
        "1. Denominator = **34**\n",
        "2. $P(\\text{predictable} \\mid -) = \\tfrac{3}{34}$\n",
        "3. $P(\\text{fun} \\mid -) = \\tfrac{1}{34}$\n",
        "\n",
        "\n"
      ],
      "metadata": {
        "id": "BtR89pGn3EX2"
      }
    }
  ]
}