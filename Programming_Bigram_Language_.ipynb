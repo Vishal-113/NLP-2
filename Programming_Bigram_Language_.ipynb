{
  "nbformat": 4,
  "nbformat_minor": 0,
  "metadata": {
    "colab": {
      "provenance": [],
      "authorship_tag": "ABX9TyMugfp0ZxDkDQ42gW+90xUM",
      "include_colab_link": true
    },
    "kernelspec": {
      "name": "python3",
      "display_name": "Python 3"
    },
    "language_info": {
      "name": "python"
    }
  },
  "cells": [
    {
      "cell_type": "markdown",
      "metadata": {
        "id": "view-in-github",
        "colab_type": "text"
      },
      "source": [
        "<a href=\"https://colab.research.google.com/github/Vishal-113/NLP-2/blob/main/Programming_Bigram_Language_.ipynb\" target=\"_parent\"><img src=\"https://colab.research.google.com/assets/colab-badge.svg\" alt=\"Open In Colab\"/></a>"
      ]
    },
    {
      "cell_type": "code",
      "source": [
        "from collections import defaultdict\n",
        "\n",
        "# Training corpus\n",
        "corpus = [\n",
        "    [\"<s>\", \"I\", \"love\", \"NLP\", \"</s>\"],\n",
        "    [\"<s>\", \"I\", \"love\", \"deep\", \"learning\", \"</s>\"],\n",
        "    [\"<s>\", \"deep\", \"learning\", \"is\", \"fun\", \"</s>\"]\n",
        "]\n",
        "\n",
        "# -------------------------------\n",
        "# Step 1: Count unigrams & bigrams\n",
        "# -------------------------------\n",
        "unigram_counts = defaultdict(int)\n",
        "bigram_counts = defaultdict(int)\n",
        "\n",
        "for sentence in corpus:\n",
        "    for i, word in enumerate(sentence):\n",
        "        unigram_counts[word] += 1\n",
        "        if i < len(sentence) - 1:\n",
        "            bigram = (word, sentence[i + 1])\n",
        "            bigram_counts[bigram] += 1\n",
        "\n",
        "# Helper: total count for denominator\n",
        "def unigram_total(prev_word):\n",
        "    return sum(count for (w1, w2), count in bigram_counts.items() if w1 == prev_word)\n",
        "\n",
        "# -------------------------------\n",
        "# Step 2: Bigram probability (MLE)\n",
        "# -------------------------------\n",
        "def bigram_prob(w1, w2):\n",
        "    count_bigram = bigram_counts[(w1, w2)]\n",
        "    count_prev = unigram_total(w1)\n",
        "    if count_prev == 0:\n",
        "        return 0.0\n",
        "    return count_bigram / count_prev\n",
        "\n",
        "# -------------------------------\n",
        "# Step 3: Sentence probability\n",
        "# -------------------------------\n",
        "def sentence_prob(sentence):\n",
        "    prob = 1.0\n",
        "    for i in range(len(sentence) - 1):\n",
        "        p = bigram_prob(sentence[i], sentence[i + 1])\n",
        "        prob *= p\n",
        "    return prob\n",
        "\n",
        "# -------------------------------\n",
        "# Step 4: Test sentences\n",
        "# -------------------------------\n",
        "s1 = [\"<s>\", \"I\", \"love\", \"NLP\", \"</s>\"]\n",
        "s2 = [\"<s>\", \"I\", \"love\", \"deep\", \"learning\", \"</s>\"]\n",
        "\n",
        "p1 = sentence_prob(s1)\n",
        "p2 = sentence_prob(s2)\n",
        "\n",
        "# -------------------------------\n",
        "# Step 5: Print results\n",
        "# -------------------------------\n",
        "print(\"Bigram Probabilities:\")\n",
        "print(f\"P(<s> I) = {bigram_prob('<s>', 'I'):.3f}\")\n",
        "print(f\"P(I love) = {bigram_prob('I', 'love'):.3f}\")\n",
        "print(f\"P(love NLP) = {bigram_prob('love', 'NLP'):.3f}\")\n",
        "print(f\"P(NLP </s>) = {bigram_prob('NLP', '</s>'):.3f}\")\n",
        "print(f\"P(love deep) = {bigram_prob('love', 'deep'):.3f}\")\n",
        "print(f\"P(deep learning) = {bigram_prob('deep', 'learning'):.3f}\")\n",
        "print(f\"P(learning </s>) = {bigram_prob('learning', '</s>'):.3f}\")\n",
        "\n",
        "print(\"\\nSentence Probabilities:\")\n",
        "print(f\"P(<s> I love NLP </s>) = {p1:.6f}\")\n",
        "print(f\"P(<s> I love deep learning </s>) = {p2:.6f}\")\n",
        "\n",
        "if p1 > p2:\n",
        "    print(\"\\nModel prefers: <s> I love NLP </s> because it has higher probability.\")\n",
        "else:\n",
        "    print(\"\\nModel prefers: <s> I love deep learning </s> because it has higher probability.\")"
      ],
      "metadata": {
        "colab": {
          "base_uri": "https://localhost:8080/"
        },
        "id": "Bk1XZ7pWYbbE",
        "outputId": "757791ea-99c3-4c97-8d4f-e258f8af2665"
      },
      "execution_count": 4,
      "outputs": [
        {
          "output_type": "stream",
          "name": "stdout",
          "text": [
            "Bigram Probabilities:\n",
            "P(<s> I) = 0.667\n",
            "P(I love) = 1.000\n",
            "P(love NLP) = 0.500\n",
            "P(NLP </s>) = 1.000\n",
            "P(love deep) = 0.500\n",
            "P(deep learning) = 1.000\n",
            "P(learning </s>) = 0.500\n",
            "\n",
            "Sentence Probabilities:\n",
            "P(<s> I love NLP </s>) = 0.333333\n",
            "P(<s> I love deep learning </s>) = 0.166667\n",
            "\n",
            "Model prefers: <s> I love NLP </s> because it has higher probability.\n"
          ]
        }
      ]
    }
  ]
}